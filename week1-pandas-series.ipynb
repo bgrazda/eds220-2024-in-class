{
 "cells": [
  {
   "cell_type": "markdown",
   "id": "138f4520-e2ca-48cd-af67-213acfb28384",
   "metadata": {},
   "source": [
    "Learning objectives\n",
    "By the end of this lesson, students will be able to:\n",
    "\n",
    "- Explain the relation between pandas.Series and pandas.DataFrame\n",
    "- Construct simple pandas.Series and pandas.DataFrame from scratch using different initalization methods\n",
    "- Perform simple operations on pandas.Series\n",
    "- Navigate the pandas documentation to look for attributes and methods of pandas.Series and pandas.DataFrame"
   ]
  },
  {
   "cell_type": "markdown",
   "id": "41bf6ceb-b4d9-47c9-9957-30d9e5f4a5f0",
   "metadata": {},
   "source": [
    "## Summary\n",
    "\n",
    "This lesson explains the differences between series and arrays in pandas. Series have the indices included in the data structure, while arrays do not explicitly include the indices. Each column of a Dataframe is a series. \n",
    "\n",
    "### Series \n",
    "\n",
    "The series parameter can be an a list, a dictionary, a single number, boolean value, or string. It is possible to represent null or NA values in a series using numpy.nan (np.nan). Series have an attribute called hasnans to check for NA values, because a series will sill return a data type for the whole series. For booleans, true = NA, false = not NA. \n",
    "\n",
    "### Dataframes\n",
    "Dataframes are dictionaries of series. You can have multiple columns of series and index into these series columns. We are able to change the index by using the attribute index and initializing the index to what you want. "
   ]
  },
  {
   "cell_type": "code",
   "execution_count": 3,
   "id": "eb585677-c76c-4f51-bc17-e2e5daea96b5",
   "metadata": {
    "tags": []
   },
   "outputs": [],
   "source": [
    "import pandas as pd\n",
    "import numpy as np"
   ]
  },
  {
   "cell_type": "code",
   "execution_count": 4,
   "id": "742c2000-fea0-4308-a306-ad5deeba1a4e",
   "metadata": {
    "tags": []
   },
   "outputs": [
    {
     "data": {
      "text/html": [
       "<div>\n",
       "<style scoped>\n",
       "    .dataframe tbody tr th:only-of-type {\n",
       "        vertical-align: middle;\n",
       "    }\n",
       "\n",
       "    .dataframe tbody tr th {\n",
       "        vertical-align: top;\n",
       "    }\n",
       "\n",
       "    .dataframe thead th {\n",
       "        text-align: right;\n",
       "    }\n",
       "</style>\n",
       "<table border=\"1\" class=\"dataframe\">\n",
       "  <thead>\n",
       "    <tr style=\"text-align: right;\">\n",
       "      <th></th>\n",
       "      <th>col_name_1</th>\n",
       "      <th>col_name_2</th>\n",
       "    </tr>\n",
       "  </thead>\n",
       "  <tbody>\n",
       "    <tr>\n",
       "      <th>0</th>\n",
       "      <td>0</td>\n",
       "      <td>3.1</td>\n",
       "    </tr>\n",
       "    <tr>\n",
       "      <th>1</th>\n",
       "      <td>1</td>\n",
       "      <td>3.2</td>\n",
       "    </tr>\n",
       "    <tr>\n",
       "      <th>2</th>\n",
       "      <td>2</td>\n",
       "      <td>3.3</td>\n",
       "    </tr>\n",
       "  </tbody>\n",
       "</table>\n",
       "</div>"
      ],
      "text/plain": [
       "   col_name_1  col_name_2\n",
       "0           0         3.1\n",
       "1           1         3.2\n",
       "2           2         3.3"
      ]
     },
     "execution_count": 4,
     "metadata": {},
     "output_type": "execute_result"
    }
   ],
   "source": [
    "# Initialize dictionary with columns' data \n",
    "d = {'col_name_1' : pd.Series(np.arange(3)),\n",
    "     'col_name_2' : pd.Series([3.1, 3.2, 3.3]),\n",
    "     }\n",
    "\n",
    "# Create data frame\n",
    "df = pd.DataFrame(d)\n",
    "df"
   ]
  },
  {
   "cell_type": "markdown",
   "id": "ae663d8e-435f-4d01-b729-af7d21513a5a",
   "metadata": {
    "tags": []
   },
   "source": [
    "# check in\n",
    "1. The integer number -999 is often used to represent missing values. Create a pandas.Series named s with four integer values, two of which are -999. The index of this series should be the the letters A through D.\n",
    "\n",
    "2. In the pandas.Series documentation, look for the method mask(). Use this method to update the series s so that the -999 values are replaced by NA values. HINT: check the first example in the method’s documentation. "
   ]
  },
  {
   "cell_type": "code",
   "execution_count": 9,
   "id": "0e78ea48-65ef-4257-ab45-6b11c33cff6f",
   "metadata": {
    "tags": []
   },
   "outputs": [
    {
     "name": "stdout",
     "output_type": "stream",
     "text": [
      "A   -999\n",
      "B     53\n",
      "C   -999\n",
      "D      5\n",
      "dtype: int64\n"
     ]
    }
   ],
   "source": [
    "s = pd.Series([-999, 53, -999, 5], index = [\"A\", \"B\", \"C\", \"D\"])\n",
    "print(s)"
   ]
  },
  {
   "cell_type": "code",
   "execution_count": 16,
   "id": "03bb07c7-d664-482d-8af0-9722dae1548b",
   "metadata": {
    "tags": []
   },
   "outputs": [
    {
     "data": {
      "text/plain": [
       "A     NaN\n",
       "B    53.0\n",
       "C     NaN\n",
       "D     5.0\n",
       "dtype: float64"
      ]
     },
     "execution_count": 16,
     "metadata": {},
     "output_type": "execute_result"
    }
   ],
   "source": [
    "s.mask(s == -999)"
   ]
  },
  {
   "cell_type": "markdown",
   "id": "b7a1f1fd-696f-4895-8b16-037172b29a4c",
   "metadata": {},
   "source": [
    "### Check in #2\n",
    "We can access the data frame’s column names via the columns attribute. Update the column names to C1 and C2 by updating this attribute."
   ]
  },
  {
   "cell_type": "code",
   "execution_count": 19,
   "id": "cbb328e1-e4df-46f2-b35c-2ebbaa716e65",
   "metadata": {
    "tags": []
   },
   "outputs": [
    {
     "data": {
      "text/plain": [
       "Index(['C1', 'C2'], dtype='object')"
      ]
     },
     "execution_count": 19,
     "metadata": {},
     "output_type": "execute_result"
    }
   ],
   "source": [
    "df.columns = [\"C1\", \"C2\"]\n",
    "df.columns"
   ]
  }
 ],
 "metadata": {
  "kernelspec": {
   "display_name": "Anaconda 3 (Base)",
   "language": "python",
   "name": "base"
  },
  "language_info": {
   "codemirror_mode": {
    "name": "ipython",
    "version": 3
   },
   "file_extension": ".py",
   "mimetype": "text/x-python",
   "name": "python",
   "nbconvert_exporter": "python",
   "pygments_lexer": "ipython3",
   "version": "3.9.13"
  }
 },
 "nbformat": 4,
 "nbformat_minor": 5
}
