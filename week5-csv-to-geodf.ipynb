{
 "cells": [
  {
   "cell_type": "markdown",
   "id": "e2731cad-0cda-4067-8773-4a44d2720e8a",
   "metadata": {},
   "source": [
    "## CSV to `GeoDataFrame`\n",
    "Let's start importing packages and updating viewing options:"
   ]
  },
  {
   "cell_type": "code",
   "execution_count": 1,
   "id": "b66755c2",
   "metadata": {
    "tags": []
   },
   "outputs": [],
   "source": [
    "import os\n",
    "\n",
    "import pandas as pd\n",
    "from pandas.api.types import is_string_dtype, is_numeric_dtype\n",
    "import geopandas as gpd\n",
    "import matplotlib.pyplot as plt"
   ]
  },
  {
   "cell_type": "code",
   "execution_count": 2,
   "id": "ac235383",
   "metadata": {
    "tags": []
   },
   "outputs": [
    {
     "data": {
      "text/html": [
       "<div>\n",
       "<style scoped>\n",
       "    .dataframe tbody tr th:only-of-type {\n",
       "        vertical-align: middle;\n",
       "    }\n",
       "\n",
       "    .dataframe tbody tr th {\n",
       "        vertical-align: top;\n",
       "    }\n",
       "\n",
       "    .dataframe thead th {\n",
       "        text-align: right;\n",
       "    }\n",
       "</style>\n",
       "<table border=\"1\" class=\"dataframe\">\n",
       "  <thead>\n",
       "    <tr style=\"text-align: right;\">\n",
       "      <th></th>\n",
       "      <th>objectid</th>\n",
       "      <th>plant_code</th>\n",
       "      <th>plant_name</th>\n",
       "      <th>utility_id</th>\n",
       "      <th>utility_name</th>\n",
       "      <th>sector_name</th>\n",
       "      <th>street_address</th>\n",
       "      <th>city</th>\n",
       "      <th>county</th>\n",
       "      <th>state</th>\n",
       "      <th>zip</th>\n",
       "      <th>primsource</th>\n",
       "      <th>source_desc</th>\n",
       "      <th>tech_desc</th>\n",
       "      <th>install_mw</th>\n",
       "      <th>total_mw</th>\n",
       "      <th>bat_mw</th>\n",
       "      <th>bio_mw</th>\n",
       "      <th>coal_mw</th>\n",
       "      <th>geo_mw</th>\n",
       "      <th>hydro_mw</th>\n",
       "      <th>hydrops_mw</th>\n",
       "      <th>ng_mw</th>\n",
       "      <th>nuclear_mw</th>\n",
       "      <th>crude_mw</th>\n",
       "      <th>solar_mw</th>\n",
       "      <th>wind_mw</th>\n",
       "      <th>other_mw</th>\n",
       "      <th>source</th>\n",
       "      <th>period</th>\n",
       "      <th>longitude</th>\n",
       "      <th>latitude</th>\n",
       "    </tr>\n",
       "  </thead>\n",
       "  <tbody>\n",
       "    <tr>\n",
       "      <th>0</th>\n",
       "      <td>11570</td>\n",
       "      <td>1</td>\n",
       "      <td>Sand Point</td>\n",
       "      <td>63560</td>\n",
       "      <td>TDX Sand Point Generating, LLC</td>\n",
       "      <td>Electric Utility</td>\n",
       "      <td>100 Power Plant Way</td>\n",
       "      <td>Sand Point</td>\n",
       "      <td>Aleutians East</td>\n",
       "      <td>Alaska</td>\n",
       "      <td>99661.0</td>\n",
       "      <td>petroleum</td>\n",
       "      <td>Petroleum = 1.3 MW, Wind = 0.4 MW</td>\n",
       "      <td>Petroleum Liquids; Onshore Wind Turbine;</td>\n",
       "      <td>3.7</td>\n",
       "      <td>1.7</td>\n",
       "      <td>NaN</td>\n",
       "      <td>NaN</td>\n",
       "      <td>NaN</td>\n",
       "      <td>NaN</td>\n",
       "      <td>NaN</td>\n",
       "      <td>NaN</td>\n",
       "      <td>NaN</td>\n",
       "      <td>NaN</td>\n",
       "      <td>1.3</td>\n",
       "      <td>NaN</td>\n",
       "      <td>0.4</td>\n",
       "      <td>NaN</td>\n",
       "      <td>EIA-860, EIA-860M and EIA-923</td>\n",
       "      <td>202305.0</td>\n",
       "      <td>-160.497222</td>\n",
       "      <td>55.339722</td>\n",
       "    </tr>\n",
       "    <tr>\n",
       "      <th>1</th>\n",
       "      <td>11571</td>\n",
       "      <td>2</td>\n",
       "      <td>Bankhead Dam</td>\n",
       "      <td>195</td>\n",
       "      <td>Alabama Power Co</td>\n",
       "      <td>Electric Utility</td>\n",
       "      <td>19001 Lock 17 Road</td>\n",
       "      <td>Northport</td>\n",
       "      <td>Tuscaloosa</td>\n",
       "      <td>Alabama</td>\n",
       "      <td>35476.0</td>\n",
       "      <td>hydroelectric</td>\n",
       "      <td>Hydroelectric = 53 MW</td>\n",
       "      <td>Conventional Hydroelectric</td>\n",
       "      <td>53.9</td>\n",
       "      <td>53.0</td>\n",
       "      <td>NaN</td>\n",
       "      <td>NaN</td>\n",
       "      <td>NaN</td>\n",
       "      <td>NaN</td>\n",
       "      <td>53.0</td>\n",
       "      <td>NaN</td>\n",
       "      <td>NaN</td>\n",
       "      <td>NaN</td>\n",
       "      <td>NaN</td>\n",
       "      <td>NaN</td>\n",
       "      <td>NaN</td>\n",
       "      <td>NaN</td>\n",
       "      <td>EIA-860, EIA-860M and EIA-923</td>\n",
       "      <td>202305.0</td>\n",
       "      <td>-87.356823</td>\n",
       "      <td>33.458665</td>\n",
       "    </tr>\n",
       "    <tr>\n",
       "      <th>2</th>\n",
       "      <td>11572</td>\n",
       "      <td>3</td>\n",
       "      <td>Barry</td>\n",
       "      <td>195</td>\n",
       "      <td>Alabama Power Co</td>\n",
       "      <td>Electric Utility</td>\n",
       "      <td>North Highway 43</td>\n",
       "      <td>Bucks</td>\n",
       "      <td>Mobile</td>\n",
       "      <td>Alabama</td>\n",
       "      <td>36512.0</td>\n",
       "      <td>natural gas</td>\n",
       "      <td>Coal = 1118.5 MW, Natural Gas = 1296.2 MW</td>\n",
       "      <td>Conventional Steam Coal; Natural Gas Fired Com...</td>\n",
       "      <td>2569.5</td>\n",
       "      <td>2414.7</td>\n",
       "      <td>NaN</td>\n",
       "      <td>NaN</td>\n",
       "      <td>1118.5</td>\n",
       "      <td>NaN</td>\n",
       "      <td>NaN</td>\n",
       "      <td>NaN</td>\n",
       "      <td>1296.2</td>\n",
       "      <td>NaN</td>\n",
       "      <td>NaN</td>\n",
       "      <td>NaN</td>\n",
       "      <td>NaN</td>\n",
       "      <td>NaN</td>\n",
       "      <td>EIA-860, EIA-860M and EIA-923</td>\n",
       "      <td>202305.0</td>\n",
       "      <td>-88.010300</td>\n",
       "      <td>31.006900</td>\n",
       "    </tr>\n",
       "  </tbody>\n",
       "</table>\n",
       "</div>"
      ],
      "text/plain": [
       "  objectid plant_code    plant_name utility_id  \\\n",
       "0    11570          1    Sand Point      63560   \n",
       "1    11571          2  Bankhead Dam        195   \n",
       "2    11572          3         Barry        195   \n",
       "\n",
       "                     utility_name       sector_name       street_address  \\\n",
       "0  TDX Sand Point Generating, LLC  Electric Utility  100 Power Plant Way   \n",
       "1                Alabama Power Co  Electric Utility   19001 Lock 17 Road   \n",
       "2                Alabama Power Co  Electric Utility     North Highway 43   \n",
       "\n",
       "         city          county    state      zip     primsource  \\\n",
       "0  Sand Point  Aleutians East   Alaska  99661.0      petroleum   \n",
       "1   Northport      Tuscaloosa  Alabama  35476.0  hydroelectric   \n",
       "2       Bucks          Mobile  Alabama  36512.0    natural gas   \n",
       "\n",
       "                                 source_desc  \\\n",
       "0          Petroleum = 1.3 MW, Wind = 0.4 MW   \n",
       "1                      Hydroelectric = 53 MW   \n",
       "2  Coal = 1118.5 MW, Natural Gas = 1296.2 MW   \n",
       "\n",
       "                                           tech_desc  install_mw  total_mw  \\\n",
       "0           Petroleum Liquids; Onshore Wind Turbine;         3.7       1.7   \n",
       "1                         Conventional Hydroelectric        53.9      53.0   \n",
       "2  Conventional Steam Coal; Natural Gas Fired Com...      2569.5    2414.7   \n",
       "\n",
       "   bat_mw  bio_mw  coal_mw  geo_mw  hydro_mw  hydrops_mw   ng_mw nuclear_mw  \\\n",
       "0     NaN     NaN      NaN     NaN       NaN         NaN     NaN        NaN   \n",
       "1     NaN     NaN      NaN     NaN      53.0         NaN     NaN        NaN   \n",
       "2     NaN     NaN   1118.5     NaN       NaN         NaN  1296.2        NaN   \n",
       "\n",
       "   crude_mw  solar_mw  wind_mw  other_mw                         source  \\\n",
       "0       1.3       NaN      0.4       NaN  EIA-860, EIA-860M and EIA-923   \n",
       "1       NaN       NaN      NaN       NaN  EIA-860, EIA-860M and EIA-923   \n",
       "2       NaN       NaN      NaN       NaN  EIA-860, EIA-860M and EIA-923   \n",
       "\n",
       "     period   longitude   latitude  \n",
       "0  202305.0 -160.497222  55.339722  \n",
       "1  202305.0  -87.356823  33.458665  \n",
       "2  202305.0  -88.010300  31.006900  "
      ]
     },
     "execution_count": 2,
     "metadata": {},
     "output_type": "execute_result"
    }
   ],
   "source": [
    "# Display all columns when looking at dfs\n",
    "pd.set_option('display.max.columns', None)\n",
    "\n",
    "# Import power plants data\n",
    "URL = 'https://raw.githubusercontent.com/carmengg/eds-220-book/refs/heads/main/data/power_plants_epsg4269.csv'\n",
    "power_plants = pd.read_csv(URL)\n",
    "\n",
    "power_plants = power_plants.drop(columns = 'Unnamed: 0')\n",
    "\n",
    "power_plants.head(3)"
   ]
  },
  {
   "cell_type": "code",
   "execution_count": 3,
   "id": "1b3cf39f",
   "metadata": {
    "tags": []
   },
   "outputs": [
    {
     "data": {
      "text/html": [
       "<div>\n",
       "<style scoped>\n",
       "    .dataframe tbody tr th:only-of-type {\n",
       "        vertical-align: middle;\n",
       "    }\n",
       "\n",
       "    .dataframe tbody tr th {\n",
       "        vertical-align: top;\n",
       "    }\n",
       "\n",
       "    .dataframe thead th {\n",
       "        text-align: right;\n",
       "    }\n",
       "</style>\n",
       "<table border=\"1\" class=\"dataframe\">\n",
       "  <thead>\n",
       "    <tr style=\"text-align: right;\">\n",
       "      <th></th>\n",
       "      <th>objectid</th>\n",
       "      <th>plant_code</th>\n",
       "      <th>plant_name</th>\n",
       "      <th>utility_id</th>\n",
       "      <th>utility_name</th>\n",
       "      <th>sector_name</th>\n",
       "      <th>street_address</th>\n",
       "      <th>city</th>\n",
       "      <th>county</th>\n",
       "      <th>state</th>\n",
       "      <th>zip</th>\n",
       "      <th>primsource</th>\n",
       "      <th>source_desc</th>\n",
       "      <th>tech_desc</th>\n",
       "      <th>install_mw</th>\n",
       "      <th>total_mw</th>\n",
       "      <th>bat_mw</th>\n",
       "      <th>bio_mw</th>\n",
       "      <th>coal_mw</th>\n",
       "      <th>geo_mw</th>\n",
       "      <th>hydro_mw</th>\n",
       "      <th>hydrops_mw</th>\n",
       "      <th>ng_mw</th>\n",
       "      <th>nuclear_mw</th>\n",
       "      <th>crude_mw</th>\n",
       "      <th>solar_mw</th>\n",
       "      <th>wind_mw</th>\n",
       "      <th>other_mw</th>\n",
       "      <th>source</th>\n",
       "      <th>period</th>\n",
       "      <th>longitude</th>\n",
       "      <th>latitude</th>\n",
       "      <th>geometry</th>\n",
       "    </tr>\n",
       "  </thead>\n",
       "  <tbody>\n",
       "    <tr>\n",
       "      <th>0</th>\n",
       "      <td>11570</td>\n",
       "      <td>1</td>\n",
       "      <td>Sand Point</td>\n",
       "      <td>63560</td>\n",
       "      <td>TDX Sand Point Generating, LLC</td>\n",
       "      <td>Electric Utility</td>\n",
       "      <td>100 Power Plant Way</td>\n",
       "      <td>Sand Point</td>\n",
       "      <td>Aleutians East</td>\n",
       "      <td>Alaska</td>\n",
       "      <td>99661.0</td>\n",
       "      <td>petroleum</td>\n",
       "      <td>Petroleum = 1.3 MW, Wind = 0.4 MW</td>\n",
       "      <td>Petroleum Liquids; Onshore Wind Turbine;</td>\n",
       "      <td>3.7</td>\n",
       "      <td>1.7</td>\n",
       "      <td>NaN</td>\n",
       "      <td>NaN</td>\n",
       "      <td>NaN</td>\n",
       "      <td>NaN</td>\n",
       "      <td>NaN</td>\n",
       "      <td>NaN</td>\n",
       "      <td>NaN</td>\n",
       "      <td>NaN</td>\n",
       "      <td>1.3</td>\n",
       "      <td>NaN</td>\n",
       "      <td>0.4</td>\n",
       "      <td>NaN</td>\n",
       "      <td>EIA-860, EIA-860M and EIA-923</td>\n",
       "      <td>202305.0</td>\n",
       "      <td>-160.497222</td>\n",
       "      <td>55.339722</td>\n",
       "      <td>POINT (-160.49722 55.33972)</td>\n",
       "    </tr>\n",
       "    <tr>\n",
       "      <th>1</th>\n",
       "      <td>11571</td>\n",
       "      <td>2</td>\n",
       "      <td>Bankhead Dam</td>\n",
       "      <td>195</td>\n",
       "      <td>Alabama Power Co</td>\n",
       "      <td>Electric Utility</td>\n",
       "      <td>19001 Lock 17 Road</td>\n",
       "      <td>Northport</td>\n",
       "      <td>Tuscaloosa</td>\n",
       "      <td>Alabama</td>\n",
       "      <td>35476.0</td>\n",
       "      <td>hydroelectric</td>\n",
       "      <td>Hydroelectric = 53 MW</td>\n",
       "      <td>Conventional Hydroelectric</td>\n",
       "      <td>53.9</td>\n",
       "      <td>53.0</td>\n",
       "      <td>NaN</td>\n",
       "      <td>NaN</td>\n",
       "      <td>NaN</td>\n",
       "      <td>NaN</td>\n",
       "      <td>53.0</td>\n",
       "      <td>NaN</td>\n",
       "      <td>NaN</td>\n",
       "      <td>NaN</td>\n",
       "      <td>NaN</td>\n",
       "      <td>NaN</td>\n",
       "      <td>NaN</td>\n",
       "      <td>NaN</td>\n",
       "      <td>EIA-860, EIA-860M and EIA-923</td>\n",
       "      <td>202305.0</td>\n",
       "      <td>-87.356823</td>\n",
       "      <td>33.458665</td>\n",
       "      <td>POINT (-87.35682 33.45867)</td>\n",
       "    </tr>\n",
       "    <tr>\n",
       "      <th>2</th>\n",
       "      <td>11572</td>\n",
       "      <td>3</td>\n",
       "      <td>Barry</td>\n",
       "      <td>195</td>\n",
       "      <td>Alabama Power Co</td>\n",
       "      <td>Electric Utility</td>\n",
       "      <td>North Highway 43</td>\n",
       "      <td>Bucks</td>\n",
       "      <td>Mobile</td>\n",
       "      <td>Alabama</td>\n",
       "      <td>36512.0</td>\n",
       "      <td>natural gas</td>\n",
       "      <td>Coal = 1118.5 MW, Natural Gas = 1296.2 MW</td>\n",
       "      <td>Conventional Steam Coal; Natural Gas Fired Com...</td>\n",
       "      <td>2569.5</td>\n",
       "      <td>2414.7</td>\n",
       "      <td>NaN</td>\n",
       "      <td>NaN</td>\n",
       "      <td>1118.5</td>\n",
       "      <td>NaN</td>\n",
       "      <td>NaN</td>\n",
       "      <td>NaN</td>\n",
       "      <td>1296.2</td>\n",
       "      <td>NaN</td>\n",
       "      <td>NaN</td>\n",
       "      <td>NaN</td>\n",
       "      <td>NaN</td>\n",
       "      <td>NaN</td>\n",
       "      <td>EIA-860, EIA-860M and EIA-923</td>\n",
       "      <td>202305.0</td>\n",
       "      <td>-88.010300</td>\n",
       "      <td>31.006900</td>\n",
       "      <td>POINT (-88.01030 31.00690)</td>\n",
       "    </tr>\n",
       "  </tbody>\n",
       "</table>\n",
       "</div>"
      ],
      "text/plain": [
       "  objectid plant_code    plant_name utility_id  \\\n",
       "0    11570          1    Sand Point      63560   \n",
       "1    11571          2  Bankhead Dam        195   \n",
       "2    11572          3         Barry        195   \n",
       "\n",
       "                     utility_name       sector_name       street_address  \\\n",
       "0  TDX Sand Point Generating, LLC  Electric Utility  100 Power Plant Way   \n",
       "1                Alabama Power Co  Electric Utility   19001 Lock 17 Road   \n",
       "2                Alabama Power Co  Electric Utility     North Highway 43   \n",
       "\n",
       "         city          county    state      zip     primsource  \\\n",
       "0  Sand Point  Aleutians East   Alaska  99661.0      petroleum   \n",
       "1   Northport      Tuscaloosa  Alabama  35476.0  hydroelectric   \n",
       "2       Bucks          Mobile  Alabama  36512.0    natural gas   \n",
       "\n",
       "                                 source_desc  \\\n",
       "0          Petroleum = 1.3 MW, Wind = 0.4 MW   \n",
       "1                      Hydroelectric = 53 MW   \n",
       "2  Coal = 1118.5 MW, Natural Gas = 1296.2 MW   \n",
       "\n",
       "                                           tech_desc  install_mw  total_mw  \\\n",
       "0           Petroleum Liquids; Onshore Wind Turbine;         3.7       1.7   \n",
       "1                         Conventional Hydroelectric        53.9      53.0   \n",
       "2  Conventional Steam Coal; Natural Gas Fired Com...      2569.5    2414.7   \n",
       "\n",
       "   bat_mw  bio_mw  coal_mw  geo_mw  hydro_mw  hydrops_mw   ng_mw nuclear_mw  \\\n",
       "0     NaN     NaN      NaN     NaN       NaN         NaN     NaN        NaN   \n",
       "1     NaN     NaN      NaN     NaN      53.0         NaN     NaN        NaN   \n",
       "2     NaN     NaN   1118.5     NaN       NaN         NaN  1296.2        NaN   \n",
       "\n",
       "   crude_mw  solar_mw  wind_mw  other_mw                         source  \\\n",
       "0       1.3       NaN      0.4       NaN  EIA-860, EIA-860M and EIA-923   \n",
       "1       NaN       NaN      NaN       NaN  EIA-860, EIA-860M and EIA-923   \n",
       "2       NaN       NaN      NaN       NaN  EIA-860, EIA-860M and EIA-923   \n",
       "\n",
       "     period   longitude   latitude                     geometry  \n",
       "0  202305.0 -160.497222  55.339722  POINT (-160.49722 55.33972)  \n",
       "1  202305.0  -87.356823  33.458665   POINT (-87.35682 33.45867)  \n",
       "2  202305.0  -88.010300  31.006900   POINT (-88.01030 31.00690)  "
      ]
     },
     "execution_count": 3,
     "metadata": {},
     "output_type": "execute_result"
    }
   ],
   "source": [
    "# Create points from latitude and longitude\n",
    "points = gpd.points_from_xy(power_plants.longitude, \n",
    "                            power_plants.latitude)\n",
    "# Create geodataframe\n",
    "power_plants = gpd.GeoDataFrame(power_plants,       # DataFrame\n",
    "                                geometry = points,   # Specify geometry column\n",
    "                                crs = 'EPSG:4269')   # Specify CRS\n",
    "\n",
    "power_plants.head(3)"
   ]
  },
  {
   "cell_type": "code",
   "execution_count": 4,
   "id": "40f81820",
   "metadata": {
    "tags": []
   },
   "outputs": [
    {
     "name": "stdout",
     "output_type": "stream",
     "text": [
      "CRS:  EPSG:4269\n",
      "is CRS geographic:  True\n"
     ]
    }
   ],
   "source": [
    "print('CRS: ', power_plants.crs)\n",
    "print('is CRS geographic: ', power_plants.crs.is_geographic)"
   ]
  },
  {
   "cell_type": "code",
   "execution_count": 5,
   "id": "2a4b65e3",
   "metadata": {
    "tags": []
   },
   "outputs": [
    {
     "data": {
      "text/plain": [
       "<AxesSubplot:>"
      ]
     },
     "execution_count": 5,
     "metadata": {},
     "output_type": "execute_result"
    },
    {
     "data": {
      "image/png": "[encoded data removed]",
      "text/plain": [
       "<Figure size 640x480 with 1 Axes>"
      ]
     },
     "metadata": {},
     "output_type": "display_data"
    }
   ],
   "source": [
    "power_plants.plot(column = 'primsource')"
   ]
  },
  {
   "cell_type": "markdown",
   "id": "0358cad8-f8dc-4bf1-96b1-70fa208bf661",
   "metadata": {},
   "source": [
    "## f strings\n",
    "So far, we have printed variables using string concatenation inside the `print()` function: we use commas to separate every variable and string that we want to print. Example:"
   ]
  },
  {
   "cell_type": "code",
   "execution_count": 6,
   "id": "688e717c-6fe6-4c61-a326-9ee8dd432c1c",
   "metadata": {
    "tags": []
   },
   "outputs": [
    {
     "name": "stdout",
     "output_type": "stream",
     "text": [
      "CRS : EPSG:4269\n"
     ]
    }
   ],
   "source": [
    "print('CRS :', power_plants.crs)"
   ]
  },
  {
   "cell_type": "markdown",
   "id": "4d4b1de5-ea0d-4f3c-90ce-f1653ee407e9",
   "metadata": {},
   "source": [
    "Another popular way to mix variables and strings in a print statement is by creating a **f-string**, stands for formatted string. \n",
    "\n",
    "The simplest syntax:\n",
    "```python\n",
    "f\"some text {replace}\"\n",
    "```\n",
    "Where `replace` can be a variable, na expression, a function or method call.\n",
    "Example:"
   ]
  },
  {
   "cell_type": "code",
   "execution_count": 7,
   "id": "2231a435-a63f-43ac-b656-363e2f863318",
   "metadata": {
    "tags": []
   },
   "outputs": [
    {
     "data": {
      "text/plain": [
       "'ellipsoid: GRS 1980'"
      ]
     },
     "execution_count": 7,
     "metadata": {},
     "output_type": "execute_result"
    }
   ],
   "source": [
    "#Check what is the ellipsoid \n",
    "f\"ellipsoid: {power_plants.crs.ellipsoid}\""
   ]
  },
  {
   "cell_type": "code",
   "execution_count": 8,
   "id": "3bd97ccb-2e4f-4486-a708-a0d93afa43d6",
   "metadata": {
    "tags": []
   },
   "outputs": [
    {
     "name": "stdout",
     "output_type": "stream",
     "text": [
      "datum: North American Datum 1983\n"
     ]
    }
   ],
   "source": [
    "# Use f strings inside the print function\n",
    "print(f\"datum: {power_plants.crs.datum}\")"
   ]
  },
  {
   "cell_type": "markdown",
   "id": "3c35ff5a-f214-4bd2-9800-7ecf2276b304",
   "metadata": {},
   "source": [
    "Advantages of using f-strings: a lot of customization for formtting output."
   ]
  },
  {
   "cell_type": "code",
   "execution_count": 9,
   "id": "1ba869cb-8a38-430c-b25e-be20f3353def",
   "metadata": {
    "tags": []
   },
   "outputs": [
    {
     "name": "stdout",
     "output_type": "stream",
     "text": [
      "Is the CRS geographic?:   True\n",
      "Is the CRS projected?:    False\n"
     ]
    }
   ],
   "source": [
    "# Set the label width to 25 characters, aligning the answers\n",
    "print(f\"{'Is the CRS geographic?:':<25} {power_plants.crs.is_geographic}\")\n",
    "print(f\"{'Is the CRS projected?:':<25} {power_plants.crs.is_projected}\")"
   ]
  },
  {
   "cell_type": "markdown",
   "id": "3323c442",
   "metadata": {},
   "source": [
    "# Import the shapefile data"
   ]
  },
  {
   "cell_type": "code",
   "execution_count": 10,
   "id": "233b4da8-e2af-4a6c-8c56-5b0925ddd59a",
   "metadata": {
    "tags": []
   },
   "outputs": [
    {
     "data": {
      "text/plain": [
       "'/Users/bgrazda/MEDS/EDS-220/eds220-2024-in-class'"
      ]
     },
     "execution_count": 10,
     "metadata": {},
     "output_type": "execute_result"
    }
   ],
   "source": [
    "os.getcwd()"
   ]
  },
  {
   "cell_type": "code",
   "execution_count": 11,
   "id": "3d8fbe2e-059c-4124-a452-56a0e2e41e05",
   "metadata": {
    "tags": []
   },
   "outputs": [
    {
     "data": {
      "text/html": [
       "<div>\n",
       "<style scoped>\n",
       "    .dataframe tbody tr th:only-of-type {\n",
       "        vertical-align: middle;\n",
       "    }\n",
       "\n",
       "    .dataframe tbody tr th {\n",
       "        vertical-align: top;\n",
       "    }\n",
       "\n",
       "    .dataframe thead th {\n",
       "        text-align: right;\n",
       "    }\n",
       "</style>\n",
       "<table border=\"1\" class=\"dataframe\">\n",
       "  <thead>\n",
       "    <tr style=\"text-align: right;\">\n",
       "      <th></th>\n",
       "      <th>region</th>\n",
       "      <th>division</th>\n",
       "      <th>statefp</th>\n",
       "      <th>statens</th>\n",
       "      <th>geoid</th>\n",
       "      <th>stusps</th>\n",
       "      <th>name</th>\n",
       "      <th>lsad</th>\n",
       "      <th>mtfcc</th>\n",
       "      <th>funcstat</th>\n",
       "      <th>aland</th>\n",
       "      <th>awater</th>\n",
       "      <th>intptlat</th>\n",
       "      <th>intptlon</th>\n",
       "      <th>geometry</th>\n",
       "    </tr>\n",
       "  </thead>\n",
       "  <tbody>\n",
       "    <tr>\n",
       "      <th>0</th>\n",
       "      <td>3</td>\n",
       "      <td>5</td>\n",
       "      <td>54</td>\n",
       "      <td>01779805</td>\n",
       "      <td>54</td>\n",
       "      <td>WV</td>\n",
       "      <td>West Virginia</td>\n",
       "      <td>00</td>\n",
       "      <td>G4000</td>\n",
       "      <td>A</td>\n",
       "      <td>62266456923</td>\n",
       "      <td>489045863</td>\n",
       "      <td>+38.6472854</td>\n",
       "      <td>-080.6183274</td>\n",
       "      <td>POLYGON ((-77.75438 39.33346, -77.75422 39.333...</td>\n",
       "    </tr>\n",
       "    <tr>\n",
       "      <th>1</th>\n",
       "      <td>3</td>\n",
       "      <td>5</td>\n",
       "      <td>12</td>\n",
       "      <td>00294478</td>\n",
       "      <td>12</td>\n",
       "      <td>FL</td>\n",
       "      <td>Florida</td>\n",
       "      <td>00</td>\n",
       "      <td>G4000</td>\n",
       "      <td>A</td>\n",
       "      <td>138962819934</td>\n",
       "      <td>45971472526</td>\n",
       "      <td>+28.3989775</td>\n",
       "      <td>-082.5143005</td>\n",
       "      <td>MULTIPOLYGON (((-83.10874 24.62949, -83.10711 ...</td>\n",
       "    </tr>\n",
       "    <tr>\n",
       "      <th>2</th>\n",
       "      <td>2</td>\n",
       "      <td>3</td>\n",
       "      <td>17</td>\n",
       "      <td>01779784</td>\n",
       "      <td>17</td>\n",
       "      <td>IL</td>\n",
       "      <td>Illinois</td>\n",
       "      <td>00</td>\n",
       "      <td>G4000</td>\n",
       "      <td>A</td>\n",
       "      <td>143778515726</td>\n",
       "      <td>6216539665</td>\n",
       "      <td>+40.1028754</td>\n",
       "      <td>-089.1526108</td>\n",
       "      <td>POLYGON ((-87.89243 38.28285, -87.89334 38.282...</td>\n",
       "    </tr>\n",
       "  </tbody>\n",
       "</table>\n",
       "</div>"
      ],
      "text/plain": [
       "  region division statefp   statens geoid stusps           name lsad  mtfcc  \\\n",
       "0      3        5      54  01779805    54     WV  West Virginia   00  G4000   \n",
       "1      3        5      12  00294478    12     FL        Florida   00  G4000   \n",
       "2      2        3      17  01779784    17     IL       Illinois   00  G4000   \n",
       "\n",
       "  funcstat         aland       awater     intptlat      intptlon  \\\n",
       "0        A   62266456923    489045863  +38.6472854  -080.6183274   \n",
       "1        A  138962819934  45971472526  +28.3989775  -082.5143005   \n",
       "2        A  143778515726   6216539665  +40.1028754  -089.1526108   \n",
       "\n",
       "                                            geometry  \n",
       "0  POLYGON ((-77.75438 39.33346, -77.75422 39.333...  \n",
       "1  MULTIPOLYGON (((-83.10874 24.62949, -83.10711 ...  \n",
       "2  POLYGON ((-87.89243 38.28285, -87.89334 38.282...  "
      ]
     },
     "execution_count": 11,
     "metadata": {},
     "output_type": "execute_result"
    }
   ],
   "source": [
    "# Create absolute filepath to data\n",
    "fp = os.path.join('/', \n",
    "                  'courses', \n",
    "                  'EDS220', \n",
    "                  'data',\n",
    "                  'tl_2022_us_state',\n",
    "                 'tl_2022_us_state.shp')\n",
    "states = gpd.read_file(fp)\n",
    "\n",
    "# Simplify column names\n",
    "states.columns = states.columns.str.lower()\n",
    "\n",
    "states.head(3)"
   ]
  },
  {
   "cell_type": "code",
   "execution_count": 12,
   "id": "df513b4e-9104-41d2-9f4f-d5b28f13ec26",
   "metadata": {
    "tags": []
   },
   "outputs": [
    {
     "name": "stderr",
     "output_type": "stream",
     "text": [
      "/opt/python/3.7.13/lib/python3.7/site-packages/geopandas/plotting.py:51: ShapelyDeprecationWarning: The 'type' attribute is deprecated, and will be removed in the future. You can use the 'geom_type' attribute instead.\n",
      "  if geom is not None and geom.type.startswith(prefix) and not geom.is_empty:\n"
     ]
    },
    {
     "data": {
      "text/plain": [
       "<AxesSubplot:>"
      ]
     },
     "execution_count": 12,
     "metadata": {},
     "output_type": "execute_result"
    },
    {
     "data": {
      "image/png": "[encoded data removed]",
      "text/plain": [
       "<Figure size 640x480 with 1 Axes>"
      ]
     },
     "metadata": {},
     "output_type": "display_data"
    }
   ],
   "source": [
    "states.plot()"
   ]
  },
  {
   "cell_type": "markdown",
   "id": "ace515a3-a331-4baa-bc51-1fc1eb879fd6",
   "metadata": {
    "tags": []
   },
   "source": [
    "`for` loops\n",
    "\n",
    "It can be easier to work with the codes as numbers instead of strings, let's update the corresponding columns in the geo-data frame: \n",
    "`region`, `division`, `statefp`\n",
    "\n",
    "First thing, check if these are columns with strings: "
   ]
  },
  {
   "cell_type": "code",
   "execution_count": 13,
   "id": "2a08ab8d-3295-45d0-9624-38bc6ff808ce",
   "metadata": {
    "tags": []
   },
   "outputs": [
    {
     "name": "stdout",
     "output_type": "stream",
     "text": [
      "region is string dtype? True\n",
      "division is string dtype? True\n",
      "statefp is string dtype? True\n"
     ]
    }
   ],
   "source": [
    "print(f\"region is string dtype? {is_string_dtype(states['region'])}\")\n",
    "print(f\"division is string dtype? {is_string_dtype(states['division'])}\")\n",
    "print(f\"statefp is string dtype? {is_string_dtype(states['statefp'])}\")"
   ]
  },
  {
   "cell_type": "markdown",
   "id": "ccc29de4-2bad-4fc2-8a7c-3b61c7392a15",
   "metadata": {},
   "source": [
    "This is inconvenient because it repeats the same piece of code, only changing the column name.\n",
    "Instead, using a `for` loop allows to succinctly print the same info:"
   ]
  },
  {
   "cell_type": "code",
   "execution_count": 14,
   "id": "271c6fb4-e92e-4b6a-b6c8-2bdec20d72ea",
   "metadata": {
    "tags": []
   },
   "outputs": [
    {
     "name": "stdout",
     "output_type": "stream",
     "text": [
      "region is string dtype? True\n",
      "division is string dtype? True\n",
      "statefp is string dtype? True\n"
     ]
    }
   ],
   "source": [
    "code_cols = ['region', 'division', 'statefp']\n",
    "\n",
    "# Check whether codes columns are strings\n",
    "for column in code_cols:\n",
    "    print(f\"{column} is string dtype? {is_string_dtype(states[column])}\")"
   ]
  },
  {
   "cell_type": "markdown",
   "id": "b2ac6b16-66f7-4c98-8e44-add2ca4e426a",
   "metadata": {},
   "source": [
    "`for` loops execute a block of code a fixed number of times, interating over a set of objects. In this case, we iterate over the list of column names.\n",
    "\n",
    "**DRY code**\n",
    "DRY = don't repeat yourself is a core programming principle that encourages reducing redundancy and consolidating repeated logic.\n",
    "If you need to repeat the \"same\" code more than twice, you probably need a for loop.\n",
    "\n",
    "Next, update data type of the code columns to be integers. \n",
    "This time, we verify the datatype of the column using the `is_numeric_dtype()` and `assert` statement"
   ]
  },
  {
   "cell_type": "code",
   "execution_count": 15,
   "id": "4959f5f9-92ec-4886-bd7e-d8c9d2efe2ff",
   "metadata": {
    "tags": []
   },
   "outputs": [],
   "source": [
    "# Update code columns into integers\n",
    "for columnin in code_cols:\n",
    "    states[column] = states[column].astype('int')\n",
    "    assert is_numeric_dtype(states[column]) # Check conversion"
   ]
  },
  {
   "cell_type": "markdown",
   "id": "a27bb2c7-efd7-4571-854a-659248e4d394",
   "metadata": {},
   "source": [
    "The `assert` keyword does nothing if the expression next to it revaluates to `True`. \n",
    "If the expression evaluates to `False` then `assert` raises an `AssertionError` and stops your code from running.\n",
    "Example:"
   ]
  },
  {
   "cell_type": "code",
   "execution_count": 16,
   "id": "e43f7f20-e366-42ad-adc9-af9c656094ab",
   "metadata": {
    "tags": []
   },
   "outputs": [],
   "source": [
    "# Does nothing if statmenet is true\n",
    "assert 2 + 2 == 4\n"
   ]
  },
  {
   "cell_type": "code",
   "execution_count": 17,
   "id": "3775ded1-ec74-45b3-bb89-c11b0de1ffae",
   "metadata": {
    "tags": []
   },
   "outputs": [],
   "source": [
    "# raises an error if statement is false\n",
    "#assert 2 +2 ==3"
   ]
  },
  {
   "cell_type": "markdown",
   "id": "ad82308b-341c-4721-86ef-a1857932b27b",
   "metadata": {},
   "source": [
    "## Data selection\n",
    "\n",
    "For this lesson, we want to use only the contiguous states. The `states` geodataframe covers a bigger extensio."
   ]
  },
  {
   "cell_type": "code",
   "execution_count": 18,
   "id": "580663e7-05b3-493a-a181-177461af139e",
   "metadata": {
    "tags": []
   },
   "outputs": [
    {
     "name": "stderr",
     "output_type": "stream",
     "text": [
      "/opt/python/3.7.13/lib/python3.7/site-packages/geopandas/plotting.py:51: ShapelyDeprecationWarning: The 'type' attribute is deprecated, and will be removed in the future. You can use the 'geom_type' attribute instead.\n",
      "  if geom is not None and geom.type.startswith(prefix) and not geom.is_empty:\n"
     ]
    },
    {
     "data": {
      "text/plain": [
       "<AxesSubplot:>"
      ]
     },
     "execution_count": 18,
     "metadata": {},
     "output_type": "execute_result"
    },
    {
     "data": {
      "image/png": "[encoded data removed]",
      "text/plain": [
       "<Figure size 640x480 with 1 Axes>"
      ]
     },
     "metadata": {},
     "output_type": "display_data"
    }
   ],
   "source": [
    "states.plot()"
   ]
  },
  {
   "cell_type": "markdown",
   "id": "be5fdb07-9e68-44b9-90d2-ecd784e0b4e2",
   "metadata": {},
   "source": [
    "## Check in\n",
    "- what are the unique values for region, diviion, or staet codes in the data\n",
    "- which codes should we select to kepe only states in the contiguous US"
   ]
  },
  {
   "cell_type": "code",
   "execution_count": 19,
   "id": "5f890425-a6fb-40b3-bbf1-5fe9e4922b1c",
   "metadata": {
    "tags": []
   },
   "outputs": [
    {
     "name": "stdout",
     "output_type": "stream",
     "text": [
      "unique values in region: ['3' '2' '1' '4' '9']\n",
      "unique values in division: ['5' '3' '4' '1' '8' '9' '2' '7' '6' '0']\n",
      "unique values in statefp: [54 12 17 27 24 44 16 33 37 50  9 10 35  6 34 55 41 31 42 53 22 13  1 49\n",
      " 39 48  8 45 40 47 56 15 38 21 78 69 66 23 36 32  2 60 26  5 28 29 30 20\n",
      " 18 72 46 25 51 11 19  4]\n"
     ]
    }
   ],
   "source": [
    "code_col = ['region', 'division', 'statefp']\n",
    "\n",
    "for col in code_col:\n",
    "    print(f\"unique values in {col}: {states[col].unique()}\")\n",
    "    \n",
    "    "
   ]
  },
  {
   "cell_type": "markdown",
   "id": "43144aaf-68fa-41b6-b7ab-7d88e22e0ccf",
   "metadata": {},
   "source": [
    "Hawaii and Alaska have codes 2, 15, and then region 9 should be excluded"
   ]
  },
  {
   "cell_type": "code",
   "execution_count": 20,
   "id": "866db1f6-7819-48e7-870a-a6dff061d432",
   "metadata": {
    "tags": []
   },
   "outputs": [],
   "source": [
    "# Select contiguous US states\n",
    "contiguous = states[(states.region!= 9) & (~states.statefp.isin([2,15]))]"
   ]
  },
  {
   "cell_type": "code",
   "execution_count": 21,
   "id": "aa5156c3-e68a-4d0e-8f8f-89266d34129f",
   "metadata": {
    "tags": []
   },
   "outputs": [
    {
     "name": "stderr",
     "output_type": "stream",
     "text": [
      "/opt/python/3.7.13/lib/python3.7/site-packages/geopandas/plotting.py:51: ShapelyDeprecationWarning: The 'type' attribute is deprecated, and will be removed in the future. You can use the 'geom_type' attribute instead.\n",
      "  if geom is not None and geom.type.startswith(prefix) and not geom.is_empty:\n"
     ]
    },
    {
     "data": {
      "text/plain": [
       "<AxesSubplot:>"
      ]
     },
     "execution_count": 21,
     "metadata": {},
     "output_type": "execute_result"
    },
    {
     "data": {
      "image/png": "[encoded data removed]",
      "text/plain": [
       "<Figure size 640x480 with 1 Axes>"
      ]
     },
     "metadata": {},
     "output_type": "display_data"
    }
   ],
   "source": [
    "contiguous.plot()"
   ]
  },
  {
   "cell_type": "code",
   "execution_count": null,
   "id": "5c063893-211d-4ccf-a76d-e38f14d261bb",
   "metadata": {},
   "outputs": [],
   "source": []
  },
  {
   "cell_type": "markdown",
   "id": "63414c54-3d00-4e90-9e35-b0eaeb3053fa",
   "metadata": {},
   "source": [
    "The ~ tilde symbol is used in PYthon to negate a statement.\n",
    "Select data in the `power_plants` data frame fro the contiguous US states."
   ]
  },
  {
   "cell_type": "code",
   "execution_count": 22,
   "id": "89be2a19-6bd0-4213-8975-4d3b3a6bd72b",
   "metadata": {
    "tags": []
   },
   "outputs": [],
   "source": [
    "power_plants = power_plants[~power_plants.state.isin(['Puerto Rico', 'Hawaii', 'Alaska'])]"
   ]
  },
  {
   "cell_type": "markdown",
   "id": "d293e49f-e2cd-4b66-bfd8-aecbe123c214",
   "metadata": {},
   "source": [
    "## Plotting\n",
    "Before we plot our data, let's make sure they are in the same CRS:"
   ]
  },
  {
   "cell_type": "code",
   "execution_count": 23,
   "id": "3295db3d-b8fd-48d1-884e-50017f6b38bc",
   "metadata": {
    "tags": []
   },
   "outputs": [
    {
     "data": {
      "text/plain": [
       "True"
      ]
     },
     "execution_count": 23,
     "metadata": {},
     "output_type": "execute_result"
    }
   ],
   "source": [
    "contiguous.crs == power_plants.crs"
   ]
  },
  {
   "cell_type": "code",
   "execution_count": 24,
   "id": "1f56d53b-feae-4033-a996-537cae066e63",
   "metadata": {
    "tags": []
   },
   "outputs": [
    {
     "name": "stderr",
     "output_type": "stream",
     "text": [
      "/opt/python/3.7.13/lib/python3.7/site-packages/geopandas/plotting.py:51: ShapelyDeprecationWarning: The 'type' attribute is deprecated, and will be removed in the future. You can use the 'geom_type' attribute instead.\n",
      "  if geom is not None and geom.type.startswith(prefix) and not geom.is_empty:\n"
     ]
    },
    {
     "data": {
      "image/png": "[encoded data removed]",
      "text/plain": [
       "<Figure size 900x500 with 1 Axes>"
      ]
     },
     "metadata": {},
     "output_type": "display_data"
    }
   ],
   "source": [
    "fig, ax = plt.subplots(figsize=(9, 5)) # Update figure size\n",
    "\n",
    "# Remove the axis for a cleaner map\n",
    "ax.axis('off')\n",
    "\n",
    "# Title for the plot\n",
    "ax.set_title('Operable electric generating plants in the contiguous United States', \n",
    "              fontsize=15)\n",
    "\n",
    "# Add states\n",
    "contiguous.plot(ax=ax,\n",
    "               color='none',\n",
    "               edgecolor='#362312')\n",
    "\n",
    "# Add electric power plants colored by energy source\n",
    "power_plants.plot(ax=ax, \n",
    "                  column='primsource',\n",
    "                  legend=True,\n",
    "                  markersize=4,\n",
    "                  cmap='tab20',\n",
    "                  alpha=0.5,\n",
    "                  legend_kwds={\n",
    "                      'title': 'Primary energy source',\n",
    "                      'title_fontsize': 'small',\n",
    "                      'fontsize': 'small',\n",
    "                      'loc': 'upper left',\n",
    "                      'bbox_to_anchor': (0, 0),\n",
    "                      'ncol': 6  \n",
    "                  })\n",
    "                  \n",
    "plt.show()"
   ]
  },
  {
   "cell_type": "markdown",
   "id": "825a951b-ad10-48a8-9c07-e954edc67134",
   "metadata": {},
   "source": [
    "We controlled the legend location using `loc` and `bbox_to_anchor`\n",
    "\n",
    "- `loc` indicates the corner of the legend we want to use for placement, and\n",
    "- `bbox_to_anchor` is a tuple with coordinates indicating where to place the corner specified in loc relative to the axes. Values between 0 and 1 are within the axes."
   ]
  },
  {
   "cell_type": "code",
   "execution_count": null,
   "id": "e4050444-90df-4ad7-b5e0-08362ceaa1c2",
   "metadata": {},
   "outputs": [],
   "source": []
  }
 ],
 "metadata": {
  "kernelspec": {
   "display_name": "Python 3 (ipykernel)",
   "language": "python",
   "name": "python3"
  },
  "language_info": {
   "codemirror_mode": {
    "name": "ipython",
    "version": 3
   },
   "file_extension": ".py",
   "mimetype": "text/x-python",
   "name": "python",
   "nbconvert_exporter": "python",
   "pygments_lexer": "ipython3",
   "version": "3.7.13"
  }
 },
 "nbformat": 4,
 "nbformat_minor": 5
}
