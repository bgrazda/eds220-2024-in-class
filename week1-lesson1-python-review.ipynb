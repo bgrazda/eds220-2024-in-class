{
 "cells": [
  {
   "cell_type": "markdown",
   "id": "267a16ee-1d4f-47d3-99f1-6a369c510ed3",
   "metadata": {},
   "source": [
    "# Python Review\n",
    "\n",
    "Short review about some core concepts in Python exemplified by objects in the Numpy Library.\n",
    "Goals: \n",
    "- recall basic Python vocab\n",
    "- practice markdown syntax \n",
    "\n",
    "## Libraries and packages\n",
    "\n",
    "**Library:** is a collection of code that we can use to perform specific tasks in our programs. It can be a single file or multiple files.\n",
    "\n",
    "**NumPy:**\n",
    "- core library for numerical computing in Python \n",
    "- many of libraaries use NumPy arrays as their building blocks\n",
    "- computations on NumPy objects are optimized for speed and memory usage \n",
    "\n",
    "Let's import NumPy with its **standard abbreviation** `np`:"
   ]
  },
  {
   "cell_type": "code",
   "execution_count": 1,
   "id": "13e0e963-8e78-4ea1-bcd8-1212a9db724c",
   "metadata": {
    "tags": []
   },
   "outputs": [],
   "source": [
    "import numpy as np"
   ]
  },
  {
   "cell_type": "markdown",
   "id": "d6c25048-54a6-4b47-8ff0-8be83bd290c4",
   "metadata": {
    "tags": []
   },
   "source": [
    "(esc + press M twice -> convert code cell to markdown cell)\n",
    "## Variables \n",
    "**variable:** a name we assigned to a particular object in Python\n",
    "\n",
    "Example:"
   ]
  },
  {
   "cell_type": "code",
   "execution_count": 2,
   "id": "81bd58b2-6742-4ec1-a664-a08d7f967115",
   "metadata": {
    "tags": []
   },
   "outputs": [],
   "source": [
    "# Assign a small array to variable a\n",
    "a = np.array([ [1, 1, 2], [3, 5, 8]])"
   ]
  },
  {
   "cell_type": "markdown",
   "id": "61881295-9e83-45ed-870b-3dbc3b6f17af",
   "metadata": {},
   "source": [
    "To view a variable's value from our Jupyter notebook: "
   ]
  },
  {
   "cell_type": "code",
   "execution_count": 3,
   "id": "00c3e3f3-5b92-41d8-8829-d1444447ab6b",
   "metadata": {
    "tags": []
   },
   "outputs": [
    {
     "data": {
      "text/plain": [
       "array([[1, 1, 2],\n",
       "       [3, 5, 8]])"
      ]
     },
     "execution_count": 3,
     "metadata": {},
     "output_type": "execute_result"
    }
   ],
   "source": [
    "# Run cell with variable name to show value\n",
    "a"
   ]
  },
  {
   "cell_type": "code",
   "execution_count": 4,
   "id": "41b375db-06cf-4404-8ef0-bbbd779bd095",
   "metadata": {
    "tags": []
   },
   "outputs": [
    {
     "name": "stdout",
     "output_type": "stream",
     "text": [
      "[[1 1 2]\n",
      " [3 5 8]]\n"
     ]
    }
   ],
   "source": [
    "# Use `print` function to print value\n",
    "print(a)"
   ]
  },
  {
   "cell_type": "markdown",
   "id": "76ff6365-61a0-42ca-9b1f-e9630fe151f5",
   "metadata": {},
   "source": [
    "## Convention: Use `snake_case` for naming variables.\n",
    "\n",
    "This is the convention we will use in the course. Why?  `my-variable` or `MyVariable` or `myVariable`,\n",
    "PEP 8 - Style Guide for Python Code recommends snake_case. \n",
    "\n",
    "**Remember that variable names should both be descriptive and concise** \n",
    "\n",
    "## Objects\n",
    "\n",
    "**object:** (informally speaking) is a bundle of *properties* and actions about something specific.\n",
    "\n",
    "Example:\n",
    "\n",
    "Object: data frame\n",
    "Properties: number of rows, names of columns, and date created\n",
    "Actions: selecting a specific row or adding a new column\n",
    "\n",
    "A variable is the name we give a specific object, and the same object can be referenced by different variables. \n",
    "\n",
    "In practice, we can often use the word variable and object interchangeably. \n",
    "\n",
    "## Types\n",
    "\n",
    "Every object in Python has a **type**, the type tells us what kind of object we have.\n",
    "We can also call the type of an object, the **class** ob an object, So class and object both mean what kind of object we have."
   ]
  },
  {
   "cell_type": "code",
   "execution_count": 5,
   "id": "257706ec-0686-470a-aa47-87f0da9da2f8",
   "metadata": {
    "tags": []
   },
   "outputs": [
    {
     "name": "stdout",
     "output_type": "stream",
     "text": [
      "[[1 1 2]\n",
      " [3 5 8]]\n"
     ]
    }
   ],
   "source": [
    "print(a)"
   ]
  },
  {
   "cell_type": "code",
   "execution_count": 6,
   "id": "344cd46f-aa5f-495c-a90a-e450283cfc18",
   "metadata": {
    "tags": []
   },
   "outputs": [
    {
     "data": {
      "text/plain": [
       "numpy.ndarray"
      ]
     },
     "execution_count": 6,
     "metadata": {},
     "output_type": "execute_result"
    }
   ],
   "source": [
    "# See the type/class of a variable/object by using the `type` function\n",
    "type(a)"
   ]
  },
  {
   "cell_type": "markdown",
   "id": "5dc6ff36-3516-45c2-8423-d9f1989dd131",
   "metadata": {},
   "source": [
    "The `numpy.ndarray` is the core object/data type of the NumPy package."
   ]
  },
  {
   "cell_type": "code",
   "execution_count": 7,
   "id": "a4f47298-1c2b-46e3-8076-4977d926f347",
   "metadata": {
    "tags": []
   },
   "outputs": [
    {
     "name": "stdout",
     "output_type": "stream",
     "text": [
      "1\n"
     ]
    },
    {
     "data": {
      "text/plain": [
       "numpy.int64"
      ]
     },
     "execution_count": 7,
     "metadata": {},
     "output_type": "execute_result"
    }
   ],
   "source": [
    "print(a[0,0])\n",
    "type(a[0,0])"
   ]
  },
  {
   "cell_type": "markdown",
   "id": "f07d219d-e9aa-4670-b524-faed50c799e8",
   "metadata": {},
   "source": [
    "`numpy.int64` is not the standard Python integer type `int`. \n",
    "`numpy.int64` is a special data type in Numpy telling us that 1 is an integer stored as a 64-bit number. \n",
    "Check in: access the vlaue 5 in array a"
   ]
  },
  {
   "cell_type": "code",
   "execution_count": 9,
   "id": "63861d16-6ba1-4194-a3bf-0498c3c32bd4",
   "metadata": {
    "tags": []
   },
   "outputs": [
    {
     "data": {
      "text/plain": [
       "5"
      ]
     },
     "execution_count": 9,
     "metadata": {},
     "output_type": "execute_result"
    }
   ],
   "source": [
    "a[1,1]"
   ]
  },
  {
   "cell_type": "markdown",
   "id": "1a3cd585-a96a-40b1-96d2-521866156d33",
   "metadata": {},
   "source": [
    "## Functions\n",
    "\n",
    "`print` was our first example of a Python **function**\n",
    "\n",
    "Functions take in a set of **arguments**, separated by commas, and use those arguments to create an **output.**\n",
    "\n",
    "In the course we'll be using argument and parameter interchangeably. But they do have slightly different meanings. \n",
    "\n",
    "We can ask for info about what a fucntion does by executing `?` followed by the function name: "
   ]
  },
  {
   "cell_type": "code",
   "execution_count": 10,
   "id": "25076f0e-21bd-4978-aed2-6ae0cf687d7f",
   "metadata": {
    "tags": []
   },
   "outputs": [
    {
     "data": {
      "text/plain": [
       "\u001b[0;31mDocstring:\u001b[0m\n",
       "print(value, ..., sep=' ', end='\\n', file=sys.stdout, flush=False)\n",
       "\n",
       "Prints the values to a stream, or to sys.stdout by default.\n",
       "Optional keyword arguments:\n",
       "file:  a file-like object (stream); defaults to the current sys.stdout.\n",
       "sep:   string inserted between values, default a space.\n",
       "end:   string appended after the last value, default a newline.\n",
       "flush: whether to forcibly flush the stream.\n",
       "\u001b[0;31mType:\u001b[0m      builtin_function_or_method\n"
      ]
     },
     "metadata": {},
     "output_type": "display_data"
    }
   ],
   "source": [
    "?print"
   ]
  },
  {
   "cell_type": "markdown",
   "id": "4569fe4a-58cd-4dee-934d-1056f3e739de",
   "metadata": {},
   "source": [
    "What we obtain is a **docstring**, a special type of comment that is used to document how a function (or a class, or module) works.\n",
    "\n",
    "Notice is that there are different types of arguments inside the function's parenthesis.\n",
    "\n",
    "Roughly speaking, a function has two types of arguments:\n",
    "\n",
    "- **non optional arguments:** arguments *you* have to specify for the function to work\n",
    "- **optional arguments:** arguments that are prefilled with a default value by the function, but you can override them. Optional arguments appear inside the parenthesis () int he form `optional_argument = default_value.`\n",
    "\n",
    "Example\n",
    "\n",
    "`end` is a parameter in `print` with default value a new line\n",
    "We can pass the value `:-)` to this parameter so that it finishes the line with `:-)` instead:"
   ]
  },
  {
   "cell_type": "code",
   "execution_count": 12,
   "id": "463ced58-1032-4824-b4b4-852aeccf8779",
   "metadata": {
    "tags": []
   },
   "outputs": [
    {
     "name": "stdout",
     "output_type": "stream",
     "text": [
      "Change the end parameter :-)"
     ]
    }
   ],
   "source": [
    "print('Change the end parameter', end = \" :-)\")"
   ]
  },
  {
   "cell_type": "markdown",
   "id": "4038e916-3303-4b31-81e1-e814d641d2a7",
   "metadata": {},
   "source": [
    "## Attributes and methods\n",
    "\n",
    "An object in Python has attributes and methods.\n",
    "\n",
    "- **attribute**: a property of the oject, some piece of information about it.\n",
    "- **method**: a procedure associated with an object, so it is an action where the main ingredient is the object itself.\n",
    "\n",
    "## Check-in\n",
    "\n",
    "Make a diagram like the cat one, for a class `fish`. W;hat are its attributes and methods? \n",
    "\n",
    "Example:\n",
    "NumPy arrays have many methods and attributes. For example:"
   ]
  },
  {
   "cell_type": "code",
   "execution_count": 13,
   "id": "739764ae-f87b-46b7-83fc-f255dfac2daf",
   "metadata": {
    "tags": []
   },
   "outputs": [
    {
     "data": {
      "text/plain": [
       "array([[1, 1, 2],\n",
       "       [3, 5, 8]])"
      ]
     },
     "execution_count": 13,
     "metadata": {},
     "output_type": "execute_result"
    }
   ],
   "source": [
    "a"
   ]
  },
  {
   "cell_type": "code",
   "execution_count": 14,
   "id": "2a804209-6341-4069-a99b-4ced24b26872",
   "metadata": {
    "tags": []
   },
   "outputs": [
    {
     "name": "stdout",
     "output_type": "stream",
     "text": [
      "[[1 3]\n",
      " [1 5]\n",
      " [2 8]]\n"
     ]
    }
   ],
   "source": [
    "# T is an example of an attribute, it returns the transpose of array\n",
    "print(a.T)"
   ]
  },
  {
   "cell_type": "code",
   "execution_count": 15,
   "id": "d10bd20e-8b43-4d99-be5f-b17138c1915c",
   "metadata": {
    "tags": []
   },
   "outputs": [
    {
     "data": {
      "text/plain": [
       "numpy.ndarray"
      ]
     },
     "execution_count": 15,
     "metadata": {},
     "output_type": "execute_result"
    }
   ],
   "source": [
    "type(a.T)"
   ]
  },
  {
   "cell_type": "code",
   "execution_count": 17,
   "id": "e1ffd865-d546-4456-996b-a9d427433a22",
   "metadata": {
    "tags": []
   },
   "outputs": [
    {
     "name": "stdout",
     "output_type": "stream",
     "text": [
      "(2, 3)\n",
      "<class 'tuple'>\n"
     ]
    }
   ],
   "source": [
    "# shape is another attribute tells us the shape of the array\n",
    "print(a.shape)\n",
    "print(type(a.shape))"
   ]
  },
  {
   "cell_type": "code",
   "execution_count": 19,
   "id": "705fd230-fc12-432b-b92c-c1b551a081ec",
   "metadata": {
    "tags": []
   },
   "outputs": [
    {
     "name": "stdout",
     "output_type": "stream",
     "text": [
      "dim: 2 | type: <class 'int'>\n"
     ]
    }
   ],
   "source": [
    "# ndim is an attribute holding the number of array dimensions\n",
    "print('dim:', a.ndim, '| type:', type(a.ndim))"
   ]
  },
  {
   "cell_type": "markdown",
   "id": "7bd48509-ecb7-45a6-99cb-71dcf7f88bec",
   "metadata": {},
   "source": [
    "Attributes can have many different data types.\n",
    "\n",
    "Some examples of methods"
   ]
  },
  {
   "cell_type": "code",
   "execution_count": 20,
   "id": "5b7dec1e-d8c3-4c06-9c21-631d00387655",
   "metadata": {
    "tags": []
   },
   "outputs": [
    {
     "name": "stdout",
     "output_type": "stream",
     "text": [
      "[[1 1 2]\n",
      " [3 5 8]]\n"
     ]
    },
    {
     "data": {
      "text/plain": [
       "array([1, 1, 2])"
      ]
     },
     "execution_count": 20,
     "metadata": {},
     "output_type": "execute_result"
    }
   ],
   "source": [
    "# The min method returns the minimum value in the array along a specified axis\n",
    "print(a)\n",
    "a.min(axis=0)"
   ]
  },
  {
   "cell_type": "code",
   "execution_count": 21,
   "id": "eccdb7a0-24c0-45b2-8d98-5a081da6eb73",
   "metadata": {
    "tags": []
   },
   "outputs": [
    {
     "data": {
      "text/plain": [
       "1"
      ]
     },
     "execution_count": 21,
     "metadata": {},
     "output_type": "execute_result"
    }
   ],
   "source": [
    "# Run min method without axis\n",
    "a.min()"
   ]
  },
  {
   "cell_type": "markdown",
   "id": "fc96d726-b69d-4125-8715-62b1ec4d6b6c",
   "metadata": {},
   "source": [
    "Remember, methods are **functions** associated with an object. We can confirm this!"
   ]
  },
  {
   "cell_type": "code",
   "execution_count": 22,
   "id": "8b400794-41b8-4877-b8b0-7f2a91e7566f",
   "metadata": {
    "tags": []
   },
   "outputs": [
    {
     "data": {
      "text/plain": [
       "[[1, 1, 2], [3, 5, 8]]"
      ]
     },
     "execution_count": 22,
     "metadata": {},
     "output_type": "execute_result"
    }
   ],
   "source": [
    "# method tolist() transform array into a list\n",
    "a.tolist()"
   ]
  },
  {
   "cell_type": "code",
   "execution_count": 26,
   "id": "bbc490a5-479c-4824-b893-3c954549de04",
   "metadata": {
    "tags": []
   },
   "outputs": [
    {
     "data": {
      "text/plain": [
       "builtin_function_or_method"
      ]
     },
     "execution_count": 26,
     "metadata": {},
     "output_type": "execute_result"
    }
   ],
   "source": [
    "type(a.tolist)"
   ]
  },
  {
   "cell_type": "code",
   "execution_count": 27,
   "id": "6af274b3-ac3b-425e-b20e-ab767fcaec66",
   "metadata": {
    "tags": []
   },
   "outputs": [
    {
     "data": {
      "text/plain": [
       "\u001b[0;31mDocstring:\u001b[0m\n",
       "print(value, ..., sep=' ', end='\\n', file=sys.stdout, flush=False)\n",
       "\n",
       "Prints the values to a stream, or to sys.stdout by default.\n",
       "Optional keyword arguments:\n",
       "file:  a file-like object (stream); defaults to the current sys.stdout.\n",
       "sep:   string inserted between values, default a space.\n",
       "end:   string appended after the last value, default a newline.\n",
       "flush: whether to forcibly flush the stream.\n",
       "\u001b[0;31mType:\u001b[0m      builtin_function_or_method\n"
      ]
     },
     "metadata": {},
     "output_type": "display_data"
    }
   ],
   "source": [
    "?print"
   ]
  },
  {
   "cell_type": "markdown",
   "id": "c66cc161-aae7-4695-8720-17f624849038",
   "metadata": {},
   "source": [
    "### Exercise 1:\n",
    "\n",
    "In the print function, the type of argument that `sep` requires is a string. This is nondefault argument because you do not need it.\n",
    "\n",
    "### Exercises 2 & 3:\n",
    "\n",
    "Create 2 new variables, one with int value 77 and another one with the string 99.\n",
    "Use your variables to print77%99%77 by changing the value of one of the option arguments in print."
   ]
  },
  {
   "cell_type": "code",
   "execution_count": 29,
   "id": "076d21cf-a7e5-401b-a69e-0608c86710bc",
   "metadata": {
    "tags": []
   },
   "outputs": [
    {
     "name": "stdout",
     "output_type": "stream",
     "text": [
      "77%99%77\n"
     ]
    }
   ],
   "source": [
    "var1 = 77\n",
    "var2 = \"99\"\n",
    "print(var1, var2, var1, sep = \"%\")"
   ]
  }
 ],
 "metadata": {
  "kernelspec": {
   "display_name": "Anaconda 3 (Base)",
   "language": "python",
   "name": "base"
  },
  "language_info": {
   "codemirror_mode": {
    "name": "ipython",
    "version": 3
   },
   "file_extension": ".py",
   "mimetype": "text/x-python",
   "name": "python",
   "nbconvert_exporter": "python",
   "pygments_lexer": "ipython3",
   "version": "3.9.13"
  }
 },
 "nbformat": 4,
 "nbformat_minor": 5
}
