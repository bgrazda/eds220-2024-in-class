{
 "cells": [
  {
   "cell_type": "markdown",
   "id": "267a16ee-1d4f-47d3-99f1-6a369c510ed3",
   "metadata": {},
   "source": [
    "# Python Review\n",
    "\n",
    "Short review about some core concepts in Python exemplified by objects in the Numpy Library.\n",
    "Goals: \n",
    "- recall basic Python vocab\n",
    "- practice markdown syntax \n",
    "\n",
    "## Libraries and packages\n",
    "\n",
    "**Library:** is a collection of code that we can use to perform specific tasks in our programs. It can be a single file or multiple files.\n",
    "\n",
    "**NumPy:**\n",
    "- core library for numerical computing in Python \n",
    "- many of libraaries use NumPy arrays as their building blocks\n",
    "- computations on NumPy objects are optimized for speed and memory usage \n",
    "\n",
    "Let's import NumPy with its **standard abbreviation** `np`:"
   ]
  },
  {
   "cell_type": "code",
   "execution_count": 1,
   "id": "13e0e963-8e78-4ea1-bcd8-1212a9db724c",
   "metadata": {
    "tags": []
   },
   "outputs": [],
   "source": [
    "import numpy as np"
   ]
  },
  {
   "cell_type": "markdown",
   "id": "d6c25048-54a6-4b47-8ff0-8be83bd290c4",
   "metadata": {
    "tags": []
   },
   "source": [
    "(esc + press M twice -> convert code cell to markdown cell)\n",
    "## Variables \n",
    "**variable:** a name we assigned to a particular object in Python\n",
    "\n",
    "Example:"
   ]
  },
  {
   "cell_type": "code",
   "execution_count": 4,
   "id": "81bd58b2-6742-4ec1-a664-a08d7f967115",
   "metadata": {
    "tags": []
   },
   "outputs": [],
   "source": [
    "# Assign a small array to variable a\n",
    "a = np.array([ [1, 1, 2], [3, 5, 8]])"
   ]
  },
  {
   "cell_type": "markdown",
   "id": "61881295-9e83-45ed-870b-3dbc3b6f17af",
   "metadata": {},
   "source": [
    "To view a variable's value from our Jupyter notebook: "
   ]
  },
  {
   "cell_type": "code",
   "execution_count": 5,
   "id": "00c3e3f3-5b92-41d8-8829-d1444447ab6b",
   "metadata": {
    "tags": []
   },
   "outputs": [
    {
     "data": {
      "text/plain": [
       "array([[1, 1, 2],\n",
       "       [3, 5, 8]])"
      ]
     },
     "execution_count": 5,
     "metadata": {},
     "output_type": "execute_result"
    }
   ],
   "source": [
    "# Run cell with variable name to show value\n",
    "a"
   ]
  },
  {
   "cell_type": "code",
   "execution_count": 6,
   "id": "41b375db-06cf-4404-8ef0-bbbd779bd095",
   "metadata": {
    "tags": []
   },
   "outputs": [
    {
     "name": "stdout",
     "output_type": "stream",
     "text": [
      "[[1 1 2]\n",
      " [3 5 8]]\n"
     ]
    }
   ],
   "source": [
    "# Use `print` function to print value\n",
    "print(a)"
   ]
  }
 ],
 "metadata": {
  "kernelspec": {
   "display_name": "Anaconda 3 (Base)",
   "language": "python",
   "name": "base"
  },
  "language_info": {
   "codemirror_mode": {
    "name": "ipython",
    "version": 3
   },
   "file_extension": ".py",
   "mimetype": "text/x-python",
   "name": "python",
   "nbconvert_exporter": "python",
   "pygments_lexer": "ipython3",
   "version": "3.9.13"
  }
 },
 "nbformat": 4,
 "nbformat_minor": 5
}
